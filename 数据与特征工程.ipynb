{
 "cells": [
  {
   "cell_type": "markdown",
   "metadata": {},
   "source": [
    "# 1.数据预处理"
   ]
  },
  {
   "cell_type": "markdown",
   "metadata": {},
   "source": [
    "## 1.1缺失值检测"
   ]
  },
  {
   "cell_type": "code",
   "execution_count": 1,
   "metadata": {
    "vscode": {
     "languageId": "plaintext"
    }
   },
   "outputs": [
    {
     "name": "stdout",
     "output_type": "stream",
     "text": [
      "     Age  Salary  Department\n",
      "0  False   False       False\n",
      "1  False    True       False\n",
      "2   True   False       False\n",
      "3  False   False        True\n",
      "4  False   False       False\n",
      "Age           1\n",
      "Salary        1\n",
      "Department    1\n",
      "dtype: int64\n"
     ]
    }
   ],
   "source": [
    "import pandas as pd\n",
    "import numpy as np\n",
    "\n",
    "# 构造示例数据\n",
    "data = {\n",
    "    \"Age\": [25, 30, np.nan, 40, 35],\n",
    "    \"Salary\": [5000, np.nan, 7000, 8000, 7500],\n",
    "    \"Department\": [\"IT\", \"HR\", \"Finance\", None, \"IT\"]\n",
    "}\n",
    "df = pd.DataFrame(data)\n",
    "\n",
    "# 检查缺失情况\n",
    "print(df.isnull())\n",
    "print(df.isnull().sum())"
   ]
  },
  {
   "cell_type": "markdown",
   "metadata": {},
   "source": [
    "### 删除法"
   ]
  },
  {
   "cell_type": "code",
   "execution_count": 5,
   "metadata": {},
   "outputs": [
    {
     "name": "stdout",
     "output_type": "stream",
     "text": [
      "    Age  Salary Department\n",
      "0  25.0  5000.0         IT\n",
      "4  35.0  7500.0         IT\n",
      "--------------------\n",
      "Empty DataFrame\n",
      "Columns: []\n",
      "Index: [0, 1, 2, 3, 4]\n"
     ]
    }
   ],
   "source": [
    "# 删除含有缺失值的行\n",
    "df_drop_row = df.dropna()\n",
    "\n",
    "# 删除含有缺失值的列\n",
    "df_drop_col = df.dropna(axis=1)\n",
    "# 检查缺失情况\n",
    "print(df_drop_row)\n",
    "print(\"--------------------\")\n",
    "print(df_drop_col)"
   ]
  },
  {
   "cell_type": "markdown",
   "metadata": {},
   "source": [
    "### 简单填充法"
   ]
  },
  {
   "cell_type": "code",
   "execution_count": 8,
   "metadata": {},
   "outputs": [
    {
     "name": "stdout",
     "output_type": "stream",
     "text": [
      "    Age  Salary Department\n",
      "0  25.0  5000.0         IT\n",
      "1  30.0  7250.0         HR\n",
      "2  32.5  7000.0    Finance\n",
      "3  40.0  8000.0         IT\n",
      "4  35.0  7500.0         IT\n"
     ]
    }
   ],
   "source": [
    "# 用均值填充 Age\n",
    "df['Age'].fillna(df['Age'].mean(), inplace=True)\n",
    "\n",
    "# 用中位数填充 Salary\n",
    "df['Salary'].fillna(df['Salary'].median(), inplace=True)\n",
    "\n",
    "# 用众数填充 Department\n",
    "df['Department'].fillna(df['Department'].mode()[0], inplace=True)\n",
    "print(df)"
   ]
  },
  {
   "cell_type": "markdown",
   "metadata": {},
   "source": [
    "### 前向/后向填充"
   ]
  },
  {
   "cell_type": "code",
   "execution_count": 9,
   "metadata": {},
   "outputs": [
    {
     "name": "stdout",
     "output_type": "stream",
     "text": [
      "    Age  Salary Department\n",
      "0  25.0  5000.0         IT\n",
      "1  30.0  7250.0         HR\n",
      "2  32.5  7000.0    Finance\n",
      "3  40.0  8000.0         IT\n",
      "4  35.0  7500.0         IT\n"
     ]
    }
   ],
   "source": [
    "# 前向填充\n",
    "df_ffill = df.fillna(method='ffill')\n",
    "\n",
    "# 后向填充\n",
    "df_bfill = df.fillna(method='bfill')\n",
    "print(df)"
   ]
  },
  {
   "cell_type": "markdown",
   "metadata": {},
   "source": [
    "## 1.2异常值检测"
   ]
  },
  {
   "cell_type": "markdown",
   "metadata": {},
   "source": [
    "### Z-Score 方法"
   ]
  },
  {
   "cell_type": "code",
   "execution_count": 11,
   "metadata": {},
   "outputs": [
    {
     "name": "stdout",
     "output_type": "stream",
     "text": [
      "   Value   Z-Score\n",
      "5    200  2.666335\n"
     ]
    }
   ],
   "source": [
    "import numpy as np\n",
    "import pandas as pd\n",
    "\n",
    "# 构造数据\n",
    "data = [10, 12, 11, 13, 12, 200, 11, 10, 12]\n",
    "df = pd.DataFrame(data, columns=['Value'])\n",
    "\n",
    "# Z-Score 方法\n",
    "mean, std = df['Value'].mean(), df['Value'].std()\n",
    "df['Z-Score'] = (df['Value'] - mean) / std\n",
    "outliers = df[np.abs(df['Z-Score']) > 2]\n",
    "print(outliers)"
   ]
  },
  {
   "cell_type": "markdown",
   "metadata": {},
   "source": [
    "### IQR 方法（四分位距法）"
   ]
  },
  {
   "cell_type": "code",
   "execution_count": 12,
   "metadata": {},
   "outputs": [
    {
     "name": "stdout",
     "output_type": "stream",
     "text": [
      "   Value   Z-Score\n",
      "5    200  2.666335\n"
     ]
    }
   ],
   "source": [
    "Q1 = df['Value'].quantile(0.25)\n",
    "Q3 = df['Value'].quantile(0.75)\n",
    "IQR = Q3 - Q1\n",
    "\n",
    "outliers_iqr = df[(df['Value'] < Q1 - 1.5*IQR) | (df['Value'] > Q3 + 1.5*IQR)]\n",
    "print(outliers_iqr)"
   ]
  },
  {
   "cell_type": "markdown",
   "metadata": {},
   "source": [
    "### 基于距离的方法"
   ]
  },
  {
   "cell_type": "code",
   "execution_count": 13,
   "metadata": {},
   "outputs": [
    {
     "name": "stdout",
     "output_type": "stream",
     "text": [
      "   Value   Z-Score  KNN_Dist\n",
      "5    200  2.666335     187.0\n",
      "3     13 -0.307450       1.0\n",
      "0     10 -0.355158       0.0\n",
      "1     12 -0.323353       0.0\n",
      "2     11 -0.339255       0.0\n",
      "4     12 -0.323353       0.0\n",
      "6     11 -0.339255       0.0\n",
      "7     10 -0.355158       0.0\n",
      "8     12 -0.323353       0.0\n"
     ]
    }
   ],
   "source": [
    "from sklearn.neighbors import NearestNeighbors\n",
    "\n",
    "X = df[['Value']].values\n",
    "nbrs = NearestNeighbors(n_neighbors=2).fit(X)\n",
    "distances, indices = nbrs.kneighbors(X)\n",
    "df['KNN_Dist'] = distances[:, 1]\n",
    "print(df.sort_values(by='KNN_Dist', ascending=False))"
   ]
  },
  {
   "cell_type": "markdown",
   "metadata": {},
   "source": [
    "### 基于密度的方法"
   ]
  },
  {
   "cell_type": "code",
   "execution_count": 14,
   "metadata": {},
   "outputs": [
    {
     "name": "stdout",
     "output_type": "stream",
     "text": [
      "   Value   Z-Score  KNN_Dist  LOF\n",
      "0     10 -0.355158       0.0    1\n",
      "1     12 -0.323353       0.0    1\n",
      "2     11 -0.339255       0.0   -1\n",
      "3     13 -0.307450       1.0   -1\n",
      "4     12 -0.323353       0.0    1\n",
      "5    200  2.666335     187.0   -1\n",
      "6     11 -0.339255       0.0   -1\n",
      "7     10 -0.355158       0.0    1\n",
      "8     12 -0.323353       0.0    1\n"
     ]
    }
   ],
   "source": [
    "from sklearn.neighbors import LocalOutlierFactor\n",
    "\n",
    "lof = LocalOutlierFactor(n_neighbors=2)\n",
    "y_pred = lof.fit_predict(X)\n",
    "df['LOF'] = y_pred\n",
    "print(df)"
   ]
  },
  {
   "cell_type": "markdown",
   "metadata": {},
   "source": [
    "### 基于模型的方法"
   ]
  },
  {
   "cell_type": "code",
   "execution_count": 15,
   "metadata": {},
   "outputs": [
    {
     "name": "stdout",
     "output_type": "stream",
     "text": [
      "   Value   Z-Score  KNN_Dist  LOF  IForest\n",
      "0     10 -0.355158       0.0    1        1\n",
      "1     12 -0.323353       0.0    1        1\n",
      "2     11 -0.339255       0.0   -1        1\n",
      "3     13 -0.307450       1.0   -1        1\n",
      "4     12 -0.323353       0.0    1        1\n",
      "5    200  2.666335     187.0   -1       -1\n",
      "6     11 -0.339255       0.0   -1        1\n",
      "7     10 -0.355158       0.0    1        1\n",
      "8     12 -0.323353       0.0    1        1\n"
     ]
    }
   ],
   "source": [
    "from sklearn.ensemble import IsolationForest\n",
    "\n",
    "iso = IsolationForest(contamination=0.1, random_state=42)\n",
    "y_pred = iso.fit_predict(X)\n",
    "df['IForest'] = y_pred\n",
    "print(df)"
   ]
  },
  {
   "cell_type": "markdown",
   "metadata": {},
   "source": [
    "## 1.3数据标准化与归一化"
   ]
  },
  {
   "cell_type": "markdown",
   "metadata": {},
   "source": [
    "### 数据标准化"
   ]
  },
  {
   "cell_type": "code",
   "execution_count": 16,
   "metadata": {},
   "outputs": [
    {
     "name": "stdout",
     "output_type": "stream",
     "text": [
      "     Height    Weight\n",
      "0 -1.341641 -1.341641\n",
      "1 -0.447214 -0.447214\n",
      "2  0.447214  0.447214\n",
      "3  1.341641  1.341641\n"
     ]
    }
   ],
   "source": [
    "import numpy as np\n",
    "import pandas as pd\n",
    "from sklearn.preprocessing import StandardScaler\n",
    "\n",
    "# 构造数据\n",
    "data = pd.DataFrame({\n",
    "    'Height': [160, 170, 180, 190],\n",
    "    'Weight': [50, 65, 80, 95]\n",
    "})\n",
    "\n",
    "scaler = StandardScaler()\n",
    "standardized = scaler.fit_transform(data)\n",
    "\n",
    "df_std = pd.DataFrame(standardized, columns=['Height', 'Weight'])\n",
    "print(df_std)"
   ]
  },
  {
   "cell_type": "markdown",
   "metadata": {},
   "source": [
    "### 数据归一化"
   ]
  },
  {
   "cell_type": "code",
   "execution_count": 18,
   "metadata": {},
   "outputs": [
    {
     "name": "stdout",
     "output_type": "stream",
     "text": [
      "     Height    Weight\n",
      "0  0.000000  0.000000\n",
      "1  0.333333  0.333333\n",
      "2  0.666667  0.666667\n",
      "3  1.000000  1.000000\n"
     ]
    }
   ],
   "source": [
    "from sklearn.preprocessing import MinMaxScaler\n",
    "\n",
    "scaler = MinMaxScaler()\n",
    "normalized = scaler.fit_transform(data)\n",
    "\n",
    "df_norm = pd.DataFrame(normalized, columns=['Height', 'Weight'])\n",
    "print(df_norm)"
   ]
  },
  {
   "cell_type": "markdown",
   "metadata": {},
   "source": [
    "###  Robust Scaler（稳健标准化）"
   ]
  },
  {
   "cell_type": "code",
   "execution_count": 19,
   "metadata": {},
   "outputs": [
    {
     "name": "stdout",
     "output_type": "stream",
     "text": [
      "[[-1.         -1.        ]\n",
      " [-0.33333333 -0.33333333]\n",
      " [ 0.33333333  0.33333333]\n",
      " [ 1.          1.        ]]\n"
     ]
    }
   ],
   "source": [
    "from sklearn.preprocessing import RobustScaler\n",
    "\n",
    "scaler = RobustScaler()\n",
    "robust_scaled = scaler.fit_transform(data)\n",
    "print(robust_scaled)"
   ]
  },
  {
   "cell_type": "markdown",
   "metadata": {},
   "source": [
    "### MaxAbs Scaler"
   ]
  },
  {
   "cell_type": "code",
   "execution_count": 20,
   "metadata": {},
   "outputs": [
    {
     "name": "stdout",
     "output_type": "stream",
     "text": [
      "[[0.84210526 0.52631579]\n",
      " [0.89473684 0.68421053]\n",
      " [0.94736842 0.84210526]\n",
      " [1.         1.        ]]\n"
     ]
    }
   ],
   "source": [
    "from sklearn.preprocessing import MaxAbsScaler\n",
    "\n",
    "scaler = MaxAbsScaler()\n",
    "scaled = scaler.fit_transform(data)\n",
    "print(scaled)"
   ]
  },
  {
   "cell_type": "markdown",
   "metadata": {},
   "source": [
    "# 2.特征工程"
   ]
  },
  {
   "cell_type": "markdown",
   "metadata": {},
   "source": [
    "## 2.1 特征选择"
   ]
  },
  {
   "cell_type": "markdown",
   "metadata": {},
   "source": [
    "### 过滤法"
   ]
  },
  {
   "cell_type": "code",
   "execution_count": 24,
   "metadata": {},
   "outputs": [
    {
     "name": "stdout",
     "output_type": "stream",
     "text": [
      "[[1.4 0.2]\n",
      " [1.4 0.2]\n",
      " [1.3 0.2]\n",
      " [1.5 0.2]\n",
      " [1.4 0.2]\n",
      " [1.7 0.4]\n",
      " [1.4 0.3]\n",
      " [1.5 0.2]\n",
      " [1.4 0.2]\n",
      " [1.5 0.1]\n",
      " [1.5 0.2]\n",
      " [1.6 0.2]\n",
      " [1.4 0.1]\n",
      " [1.1 0.1]\n",
      " [1.2 0.2]\n",
      " [1.5 0.4]\n",
      " [1.3 0.4]\n",
      " [1.4 0.3]\n",
      " [1.7 0.3]\n",
      " [1.5 0.3]\n",
      " [1.7 0.2]\n",
      " [1.5 0.4]\n",
      " [1.  0.2]\n",
      " [1.7 0.5]\n",
      " [1.9 0.2]\n",
      " [1.6 0.2]\n",
      " [1.6 0.4]\n",
      " [1.5 0.2]\n",
      " [1.4 0.2]\n",
      " [1.6 0.2]\n",
      " [1.6 0.2]\n",
      " [1.5 0.4]\n",
      " [1.5 0.1]\n",
      " [1.4 0.2]\n",
      " [1.5 0.2]\n",
      " [1.2 0.2]\n",
      " [1.3 0.2]\n",
      " [1.4 0.1]\n",
      " [1.3 0.2]\n",
      " [1.5 0.2]\n",
      " [1.3 0.3]\n",
      " [1.3 0.3]\n",
      " [1.3 0.2]\n",
      " [1.6 0.6]\n",
      " [1.9 0.4]\n",
      " [1.4 0.3]\n",
      " [1.6 0.2]\n",
      " [1.4 0.2]\n",
      " [1.5 0.2]\n",
      " [1.4 0.2]\n",
      " [4.7 1.4]\n",
      " [4.5 1.5]\n",
      " [4.9 1.5]\n",
      " [4.  1.3]\n",
      " [4.6 1.5]\n",
      " [4.5 1.3]\n",
      " [4.7 1.6]\n",
      " [3.3 1. ]\n",
      " [4.6 1.3]\n",
      " [3.9 1.4]\n",
      " [3.5 1. ]\n",
      " [4.2 1.5]\n",
      " [4.  1. ]\n",
      " [4.7 1.4]\n",
      " [3.6 1.3]\n",
      " [4.4 1.4]\n",
      " [4.5 1.5]\n",
      " [4.1 1. ]\n",
      " [4.5 1.5]\n",
      " [3.9 1.1]\n",
      " [4.8 1.8]\n",
      " [4.  1.3]\n",
      " [4.9 1.5]\n",
      " [4.7 1.2]\n",
      " [4.3 1.3]\n",
      " [4.4 1.4]\n",
      " [4.8 1.4]\n",
      " [5.  1.7]\n",
      " [4.5 1.5]\n",
      " [3.5 1. ]\n",
      " [3.8 1.1]\n",
      " [3.7 1. ]\n",
      " [3.9 1.2]\n",
      " [5.1 1.6]\n",
      " [4.5 1.5]\n",
      " [4.5 1.6]\n",
      " [4.7 1.5]\n",
      " [4.4 1.3]\n",
      " [4.1 1.3]\n",
      " [4.  1.3]\n",
      " [4.4 1.2]\n",
      " [4.6 1.4]\n",
      " [4.  1.2]\n",
      " [3.3 1. ]\n",
      " [4.2 1.3]\n",
      " [4.2 1.2]\n",
      " [4.2 1.3]\n",
      " [4.3 1.3]\n",
      " [3.  1.1]\n",
      " [4.1 1.3]\n",
      " [6.  2.5]\n",
      " [5.1 1.9]\n",
      " [5.9 2.1]\n",
      " [5.6 1.8]\n",
      " [5.8 2.2]\n",
      " [6.6 2.1]\n",
      " [4.5 1.7]\n",
      " [6.3 1.8]\n",
      " [5.8 1.8]\n",
      " [6.1 2.5]\n",
      " [5.1 2. ]\n",
      " [5.3 1.9]\n",
      " [5.5 2.1]\n",
      " [5.  2. ]\n",
      " [5.1 2.4]\n",
      " [5.3 2.3]\n",
      " [5.5 1.8]\n",
      " [6.7 2.2]\n",
      " [6.9 2.3]\n",
      " [5.  1.5]\n",
      " [5.7 2.3]\n",
      " [4.9 2. ]\n",
      " [6.7 2. ]\n",
      " [4.9 1.8]\n",
      " [5.7 2.1]\n",
      " [6.  1.8]\n",
      " [4.8 1.8]\n",
      " [4.9 1.8]\n",
      " [5.6 2.1]\n",
      " [5.8 1.6]\n",
      " [6.1 1.9]\n",
      " [6.4 2. ]\n",
      " [5.6 2.2]\n",
      " [5.1 1.5]\n",
      " [5.6 1.4]\n",
      " [6.1 2.3]\n",
      " [5.6 2.4]\n",
      " [5.5 1.8]\n",
      " [4.8 1.8]\n",
      " [5.4 2.1]\n",
      " [5.6 2.4]\n",
      " [5.1 2.3]\n",
      " [5.1 1.9]\n",
      " [5.9 2.3]\n",
      " [5.7 2.5]\n",
      " [5.2 2.3]\n",
      " [5.  1.9]\n",
      " [5.2 2. ]\n",
      " [5.4 2.3]\n",
      " [5.1 1.8]]\n"
     ]
    }
   ],
   "source": [
    "import pandas as pd\n",
    "from sklearn.datasets import load_iris\n",
    "from sklearn.feature_selection import SelectKBest, chi2, f_classif\n",
    "\n",
    "# 加载数据\n",
    "iris = load_iris()\n",
    "X, y = iris.data, iris.target\n",
    "\n",
    "# 卡方检验选择前2个特征\n",
    "chi2_selector = SelectKBest(score_func=chi2, k=2)\n",
    "X_chi2 = chi2_selector.fit_transform(X, y)\n",
    "print(X_chi2)\n",
    "\n",
    "# 方差分析选择前2个特征\n",
    "f_selector = SelectKBest(score_func=f_classif, k=2)\n",
    "X_f = f_selector.fit_transform(X, y)\n",
    "# print(X_f)"
   ]
  },
  {
   "cell_type": "markdown",
   "metadata": {},
   "source": [
    "### 包裹法（Wrapper Method）"
   ]
  },
  {
   "cell_type": "code",
   "execution_count": 25,
   "metadata": {},
   "outputs": [
    {
     "name": "stdout",
     "output_type": "stream",
     "text": [
      "选出的特征索引: [False False  True  True]\n"
     ]
    }
   ],
   "source": [
    "from sklearn.feature_selection import RFE\n",
    "from sklearn.linear_model import LogisticRegression\n",
    "\n",
    "model = LogisticRegression(max_iter=200)\n",
    "rfe = RFE(model, n_features_to_select=2)\n",
    "X_rfe = rfe.fit_transform(X, y)\n",
    "print(\"选出的特征索引:\", rfe.support_)"
   ]
  },
  {
   "cell_type": "markdown",
   "metadata": {},
   "source": [
    "### 嵌入法（Embedded Method）"
   ]
  },
  {
   "cell_type": "code",
   "execution_count": 26,
   "metadata": {},
   "outputs": [
    {
     "name": "stdout",
     "output_type": "stream",
     "text": [
      "特征系数: [ 0.         -0.          0.40811896  0.        ]\n"
     ]
    }
   ],
   "source": [
    "from sklearn.linear_model import Lasso\n",
    "\n",
    "lasso = Lasso(alpha=0.1)\n",
    "lasso.fit(X, y)\n",
    "print(\"特征系数:\", lasso.coef_)"
   ]
  },
  {
   "cell_type": "markdown",
   "metadata": {},
   "source": [
    "## 2.2特征构造"
   ]
  },
  {
   "cell_type": "markdown",
   "metadata": {},
   "source": [
    "### 数值特征变换"
   ]
  },
  {
   "cell_type": "code",
   "execution_count": 27,
   "metadata": {},
   "outputs": [
    {
     "name": "stdout",
     "output_type": "stream",
     "text": [
      "[[ 1.  4.  1.  4. 16.]\n",
      " [ 2.  5.  4. 10. 25.]\n",
      " [ 3.  6.  9. 18. 36.]]\n"
     ]
    }
   ],
   "source": [
    "import pandas as pd\n",
    "from sklearn.preprocessing import PolynomialFeatures\n",
    "\n",
    "# 构造数据\n",
    "data = pd.DataFrame({'x1': [1,2,3], 'x2': [4,5,6]})\n",
    "\n",
    "poly = PolynomialFeatures(degree=2, include_bias=False)\n",
    "data_poly = poly.fit_transform(data)\n",
    "print(data_poly)"
   ]
  },
  {
   "cell_type": "markdown",
   "metadata": {},
   "source": [
    "### 类别特征编码与构造"
   ]
  },
  {
   "cell_type": "code",
   "execution_count": 28,
   "metadata": {},
   "outputs": [
    {
     "name": "stdout",
     "output_type": "stream",
     "text": [
      "       City  Sales  City_encoded\n",
      "0   Beijing    200         250.0\n",
      "1  Shanghai    150         150.0\n",
      "2   Beijing    300         250.0\n",
      "3  Shenzhen    100         100.0\n"
     ]
    }
   ],
   "source": [
    "import pandas as pd\n",
    "\n",
    "data = pd.DataFrame({'City': ['Beijing', 'Shanghai', 'Beijing', 'Shenzhen'],\n",
    "                     'Sales': [200, 150, 300, 100]})\n",
    "\n",
    "# 目标编码\n",
    "target_mean = data.groupby('City')['Sales'].mean()\n",
    "data['City_encoded'] = data['City'].map(target_mean)\n",
    "print(data)"
   ]
  },
  {
   "cell_type": "markdown",
   "metadata": {},
   "source": [
    "### 时间序列特征构造"
   ]
  },
  {
   "cell_type": "code",
   "execution_count": 29,
   "metadata": {},
   "outputs": [
    {
     "name": "stdout",
     "output_type": "stream",
     "text": [
      "        date  sales  day_of_week  month\n",
      "0 2025-01-01    100            2      1\n",
      "1 2025-01-02    150            3      1\n",
      "2 2025-01-03    200            4      1\n",
      "3 2025-01-04    130            5      1\n"
     ]
    }
   ],
   "source": [
    "import pandas as pd\n",
    "\n",
    "data = pd.DataFrame({'date': pd.date_range('2025-01-01', periods=4),\n",
    "                     'sales':[100,150,200,130]})\n",
    "data['day_of_week'] = data['date'].dt.dayofweek\n",
    "data['month'] = data['date'].dt.month\n",
    "print(data)"
   ]
  },
  {
   "cell_type": "markdown",
   "metadata": {},
   "source": [
    "### 文本特征构造"
   ]
  },
  {
   "cell_type": "code",
   "execution_count": 30,
   "metadata": {},
   "outputs": [
    {
     "name": "stdout",
     "output_type": "stream",
     "text": [
      "[[0 0 1 1]\n",
      " [1 1 0 1]]\n"
     ]
    }
   ],
   "source": [
    "from sklearn.feature_extraction.text import CountVectorizer\n",
    "\n",
    "texts = [\"I love ML\", \"ML is fun\"]\n",
    "vectorizer = CountVectorizer()\n",
    "X = vectorizer.fit_transform(texts).toarray()\n",
    "print(X)"
   ]
  },
  {
   "cell_type": "markdown",
   "metadata": {},
   "source": [
    "## 2.3特征降维"
   ]
  },
  {
   "cell_type": "markdown",
   "metadata": {},
   "source": [
    "### 主成分分析"
   ]
  },
  {
   "cell_type": "code",
   "execution_count": 31,
   "metadata": {},
   "outputs": [
    {
     "name": "stdout",
     "output_type": "stream",
     "text": [
      "[[-0.75001714]\n",
      " [ 1.85685726]\n",
      " [-0.91187236]\n",
      " [-0.19496777]]\n"
     ]
    }
   ],
   "source": [
    "import numpy as np\n",
    "from sklearn.decomposition import PCA\n",
    "\n",
    "# 构造数据\n",
    "X = np.array([[2.5, 2.4],\n",
    "              [0.5, 0.7],\n",
    "              [2.2, 2.9],\n",
    "              [1.9, 2.2]])\n",
    "\n",
    "# PCA 降到 1 维\n",
    "pca = PCA(n_components=1)\n",
    "X_pca = pca.fit_transform(X)\n",
    "print(X_pca)"
   ]
  },
  {
   "cell_type": "markdown",
   "metadata": {},
   "source": [
    "### 线性判别分析"
   ]
  },
  {
   "cell_type": "code",
   "execution_count": 33,
   "metadata": {},
   "outputs": [
    {
     "name": "stdout",
     "output_type": "stream",
     "text": [
      "(150, 1)\n"
     ]
    }
   ],
   "source": [
    "# 用的是 iris 数据集\n",
    "from sklearn.datasets import load_iris\n",
    "from sklearn.discriminant_analysis import LinearDiscriminantAnalysis\n",
    "\n",
    "data = load_iris()\n",
    "X = data.data   # shape (150, 4)\n",
    "y = data.target # shape (150,)\n",
    "\n",
    "lda = LinearDiscriminantAnalysis(n_components=1)\n",
    "X_lda = lda.fit_transform(X, y)\n",
    "print(X_lda.shape)\n"
   ]
  },
  {
   "cell_type": "markdown",
   "metadata": {},
   "source": [
    "### 独立成分分析"
   ]
  },
  {
   "cell_type": "code",
   "execution_count": 34,
   "metadata": {},
   "outputs": [
    {
     "name": "stdout",
     "output_type": "stream",
     "text": [
      "[[ 0.11208659  0.04115307]\n",
      " [ 0.10428391 -0.04103825]\n",
      " [ 0.11178914 -0.0364984 ]\n",
      " [ 0.10296023 -0.06453198]\n",
      " [ 0.11398582  0.04217582]\n",
      " [ 0.10375838  0.11265398]\n",
      " [ 0.11008323 -0.02702847]\n",
      " [ 0.10696444  0.01561383]\n",
      " [ 0.10383623 -0.10812746]\n",
      " [ 0.10379013 -0.03040642]\n",
      " [ 0.11096866  0.09575963]\n",
      " [ 0.10374152 -0.00890266]\n",
      " [ 0.10608152 -0.050957  ]\n",
      " [ 0.11841144 -0.09852939]\n",
      " [ 0.12609317  0.18338843]\n",
      " [ 0.11873266  0.21084504]\n",
      " [ 0.11858544  0.12263131]\n",
      " [ 0.11053091  0.04006074]\n",
      " [ 0.10293098  0.13474571]\n",
      " [ 0.11179606  0.07366791]\n",
      " [ 0.09858321  0.05466947]\n",
      " [ 0.10858307  0.06054175]\n",
      " [ 0.12978058  0.00810884]\n",
      " [ 0.09298465  0.00632544]\n",
      " [ 0.09262123 -0.01638566]\n",
      " [ 0.09662846 -0.03501583]\n",
      " [ 0.10014632  0.01093485]\n",
      " [ 0.1081379   0.04966981]\n",
      " [ 0.11018736  0.04013031]\n",
      " [ 0.10066884 -0.0439814 ]\n",
      " [ 0.09876961 -0.04500416]\n",
      " [ 0.10288539  0.05747349]\n",
      " [ 0.1196374   0.12296513]\n",
      " [ 0.12272002  0.1694342 ]\n",
      " [ 0.10223445 -0.03149875]\n",
      " [ 0.11477013 -0.00097084]\n",
      " [ 0.11482566  0.08769171]\n",
      " [ 0.11578342  0.03225707]\n",
      " [ 0.1092003  -0.0935993 ]\n",
      " [ 0.10672252  0.0266249 ]\n",
      " [ 0.1144796   0.031544  ]\n",
      " [ 0.09580157 -0.16791737]\n",
      " [ 0.11251491 -0.06953164]\n",
      " [ 0.09869227  0.02078403]\n",
      " [ 0.09541331  0.06259825]\n",
      " [ 0.10297016 -0.05314165]\n",
      " [ 0.10964497  0.0722659 ]\n",
      " [ 0.1083243  -0.05000381]\n",
      " [ 0.11121058  0.08474855]\n",
      " [ 0.1090139   0.00607433]\n",
      " [-0.0384733   0.11884119]\n",
      " [-0.0311639   0.05667106]\n",
      " [-0.04885789  0.08971529]\n",
      " [-0.02225713 -0.13607681]\n",
      " [-0.04174181  0.01705248]\n",
      " [-0.03298829 -0.06635716]\n",
      " [-0.03823388  0.05161283]\n",
      " [ 0.01146611 -0.16937214]\n",
      " [-0.03721507  0.04228204]\n",
      " [-0.01275106 -0.1195727 ]\n",
      " [-0.00281856 -0.21148506]\n",
      " [-0.02214859 -0.01496899]\n",
      " [-0.02045702 -0.08977828]\n",
      " [-0.04126789 -0.01636   ]\n",
      " [ 0.00227183 -0.04288541]\n",
      " [-0.02828453  0.08125712]\n",
      " [-0.03254311 -0.05548522]\n",
      " [-0.01539342 -0.05412561]\n",
      " [-0.04725309 -0.08568941]\n",
      " [-0.01236633 -0.09631909]\n",
      " [-0.04574161 -0.00914429]\n",
      " [-0.01542216 -0.00984119]\n",
      " [-0.05735017 -0.04855417]\n",
      " [-0.03981384 -0.02620919]\n",
      " [-0.02561092  0.02774288]\n",
      " [-0.02969991  0.05821221]\n",
      " [-0.04832543  0.04618937]\n",
      " [-0.05684947  0.05098032]\n",
      " [-0.03516812 -0.02347474]\n",
      " [ 0.00543179 -0.06220453]\n",
      " [-0.01007494 -0.11686967]\n",
      " [-0.0048125  -0.11328301]\n",
      " [-0.01109125 -0.05132159]\n",
      " [-0.062279   -0.06360072]\n",
      " [-0.03205927 -0.07750737]\n",
      " [-0.02843727  0.03560209]\n",
      " [-0.04096051  0.0726818 ]\n",
      " [-0.03901959 -0.05796552]\n",
      " [-0.01460469 -0.04332324]\n",
      " [-0.01894252 -0.11200915]\n",
      " [-0.03055661 -0.10886032]\n",
      " [-0.03590382 -0.00183184]\n",
      " [-0.01645532 -0.06584976]\n",
      " [ 0.00956688 -0.1703949 ]\n",
      " [-0.02328337 -0.08191907]\n",
      " [-0.01699771 -0.03371417]\n",
      " [-0.02021069 -0.04684033]\n",
      " [-0.02512708  0.00572073]\n",
      " [ 0.02220419 -0.12892548]\n",
      " [-0.01816123 -0.05637983]\n",
      " [-0.10042294  0.0093556 ]\n",
      " [-0.06646218 -0.08889985]\n",
      " [-0.09740077  0.06820635]\n",
      " [-0.08133535 -0.02115614]\n",
      " [-0.09379814  0.00354189]\n",
      " [-0.12455775  0.1058014 ]\n",
      " [-0.04224752 -0.19491657]\n",
      " [-0.10970195  0.07149431]\n",
      " [-0.09634579 -0.03023582]\n",
      " [-0.10133511  0.14206245]\n",
      " [-0.06142481  0.04725453]\n",
      " [-0.07532726 -0.02782205]\n",
      " [-0.08184793  0.04515044]\n",
      " [-0.06738378 -0.12257658]\n",
      " [-0.07258327 -0.08232763]\n",
      " [-0.07326345  0.02797782]\n",
      " [-0.07645513  0.01539418]\n",
      " [-0.11680369  0.20949648]\n",
      " [-0.14566055  0.05900951]\n",
      " [-0.06530307 -0.12018323]\n",
      " [-0.08930014  0.07305587]\n",
      " [-0.05846318 -0.09499183]\n",
      " [-0.13026537  0.09134281]\n",
      " [-0.05870259 -0.02776347]\n",
      " [-0.08404763  0.0652522 ]\n",
      " [-0.09336782  0.10406772]\n",
      " [-0.0530966  -0.02424639]\n",
      " [-0.05324683 -0.01368413]\n",
      " [-0.08790161 -0.02545586]\n",
      " [-0.08615754  0.08717337]\n",
      " [-0.10574333  0.0743679 ]\n",
      " [-0.10305588  0.24118628]\n",
      " [-0.08945729 -0.02654819]\n",
      " [-0.05979179 -0.01744134]\n",
      " [-0.0796007  -0.07491049]\n",
      " [-0.1093772   0.1270995 ]\n",
      " [-0.08238289  0.03245908]\n",
      " [-0.0745559   0.01641694]\n",
      " [-0.04929814 -0.02220088]\n",
      " [-0.07672579  0.07068968]\n",
      " [-0.0883225   0.04040189]\n",
      " [-0.06871685  0.07598804]\n",
      " [-0.06646218 -0.08889985]\n",
      " [-0.09647174  0.05705613]\n",
      " [-0.09027034  0.0608829 ]\n",
      " [-0.07359707  0.03943772]\n",
      " [-0.06727965 -0.05541779]\n",
      " [-0.06844618  0.02069253]\n",
      " [-0.07317176  0.02752899]\n",
      " [-0.06017652 -0.04069495]]\n"
     ]
    }
   ],
   "source": [
    "from sklearn.decomposition import FastICA\n",
    "\n",
    "ica = FastICA(n_components=2)\n",
    "X_ica = ica.fit_transform(X)\n",
    "print(X_ica)"
   ]
  },
  {
   "cell_type": "markdown",
   "metadata": {},
   "source": [
    "### 非线性降维方法"
   ]
  },
  {
   "cell_type": "code",
   "execution_count": 36,
   "metadata": {},
   "outputs": [
    {
     "name": "stderr",
     "output_type": "stream",
     "text": [
      "/home/wlt/anaconda3/envs/wlt/lib/python3.7/site-packages/sklearn/manifold/_t_sne.py:783: FutureWarning: The default initialization in TSNE will change from 'random' to 'pca' in 1.2.\n",
      "  FutureWarning,\n",
      "/home/wlt/anaconda3/envs/wlt/lib/python3.7/site-packages/sklearn/manifold/_t_sne.py:793: FutureWarning: The default learning rate in TSNE will change from 200.0 to 'auto' in 1.2.\n",
      "  FutureWarning,\n"
     ]
    },
    {
     "name": "stdout",
     "output_type": "stream",
     "text": [
      "[[-10.356388  -20.781525 ]\n",
      " [-12.905783  -20.975285 ]\n",
      " [-13.004583  -19.894701 ]\n",
      " [-13.305361  -20.06607  ]\n",
      " [-10.352813  -21.153378 ]\n",
      " [ -8.3866005 -21.317993 ]\n",
      " [-12.7004595 -19.312492 ]\n",
      " [-11.03638   -20.409721 ]\n",
      " [-14.076265  -20.1664   ]\n",
      " [-12.465     -20.72987  ]\n",
      " [ -8.748954  -20.629807 ]\n",
      " [-11.705105  -19.823538 ]\n",
      " [-13.225353  -20.727112 ]\n",
      " [-14.280882  -19.610226 ]\n",
      " [ -7.426455  -20.801826 ]\n",
      " [ -7.3525176 -21.377144 ]\n",
      " [ -8.184059  -21.0027   ]\n",
      " [-10.261443  -20.585182 ]\n",
      " [ -7.911658  -20.495127 ]\n",
      " [ -9.343588  -21.341665 ]\n",
      " [ -9.235463  -19.740711 ]\n",
      " [ -9.567434  -21.093042 ]\n",
      " [-12.894333  -18.521933 ]\n",
      " [-10.5527935 -19.341864 ]\n",
      " [-11.591852  -19.181208 ]\n",
      " [-12.571847  -21.159492 ]\n",
      " [-10.777901  -19.772024 ]\n",
      " [ -9.835854  -20.423218 ]\n",
      " [-10.1718445 -20.34272  ]\n",
      " [-12.496177  -19.89243  ]\n",
      " [-12.543187  -20.295843 ]\n",
      " [ -9.318307  -19.81155  ]\n",
      " [ -8.313686  -21.780094 ]\n",
      " [ -7.683668  -21.407215 ]\n",
      " [-12.389074  -20.597292 ]\n",
      " [-11.909472  -21.184679 ]\n",
      " [ -8.7242565 -20.001366 ]\n",
      " [-10.749231  -21.322266 ]\n",
      " [-14.0162    -19.85912  ]\n",
      " [-10.635928  -20.364695 ]\n",
      " [-10.760723  -20.928219 ]\n",
      " [-14.514514  -20.814093 ]\n",
      " [-13.668211  -19.384008 ]\n",
      " [-10.313206  -19.395073 ]\n",
      " [ -9.132117  -22.00236  ]\n",
      " [-13.192302  -20.709835 ]\n",
      " [ -9.299255  -21.451704 ]\n",
      " [-13.160627  -19.73495  ]\n",
      " [ -9.04061   -20.77686  ]\n",
      " [-11.438853  -20.60815  ]\n",
      " [ 16.943779   12.998363 ]\n",
      " [ 15.529242   12.029581 ]\n",
      " [ 17.36926    12.65069  ]\n",
      " [ 10.481022   11.0553   ]\n",
      " [ 16.069155   12.006326 ]\n",
      " [ 12.707795   10.812894 ]\n",
      " [ 15.841672   11.3307495]\n",
      " [  9.002079   11.449281 ]\n",
      " [ 16.028671   12.493447 ]\n",
      " [ 10.467379   10.599506 ]\n",
      " [  9.139015   11.188867 ]\n",
      " [ 13.023481   11.524702 ]\n",
      " [ 10.9234085  12.635683 ]\n",
      " [ 14.92862    11.135222 ]\n",
      " [ 10.472062   12.116941 ]\n",
      " [ 15.927246   12.8430195]\n",
      " [ 12.846762   10.519613 ]\n",
      " [ 11.534739   11.985814 ]\n",
      " [ 14.328437    9.410658 ]\n",
      " [ 10.641478   11.600055 ]\n",
      " [ 15.914576    9.910027 ]\n",
      " [ 12.457      12.246618 ]\n",
      " [ 16.982668   10.684204 ]\n",
      " [ 14.543552   11.263908 ]\n",
      " [ 14.764083   12.395159 ]\n",
      " [ 15.636494   12.636274 ]\n",
      " [ 16.92921    12.486746 ]\n",
      " [ 18.09384    11.929468 ]\n",
      " [ 14.129354   11.159963 ]\n",
      " [ 10.035502   12.132702 ]\n",
      " [ 10.192067   11.505768 ]\n",
      " [  9.973684   11.6554165]\n",
      " [ 11.2386265  11.920515 ]\n",
      " [ 17.292938    9.559359 ]\n",
      " [ 12.424954   10.217963 ]\n",
      " [ 15.12088    10.724179 ]\n",
      " [ 16.643467   12.548247 ]\n",
      " [ 14.129307    9.620113 ]\n",
      " [ 11.942247   11.2105   ]\n",
      " [ 10.793431   11.101337 ]\n",
      " [ 11.57368    10.576102 ]\n",
      " [ 14.721535   11.330403 ]\n",
      " [ 11.26588    11.800562 ]\n",
      " [  9.056039   11.467576 ]\n",
      " [ 11.572756   11.001917 ]\n",
      " [ 12.247332   11.402641 ]\n",
      " [ 12.174684   11.285033 ]\n",
      " [ 14.020114   11.985145 ]\n",
      " [  8.903056   11.623874 ]\n",
      " [ 11.749888   11.433378 ]\n",
      " [ 22.296516    9.216183 ]\n",
      " [ 17.150581    8.766219 ]\n",
      " [ 22.962711   11.100734 ]\n",
      " [ 19.99186     9.859547 ]\n",
      " [ 21.657122   10.004775 ]\n",
      " [ 24.398846   11.398527 ]\n",
      " [ 11.323172    9.504115 ]\n",
      " [ 23.762085   11.67358  ]\n",
      " [ 21.76334    11.873067 ]\n",
      " [ 23.69084    10.285729 ]\n",
      " [ 19.893261   11.026123 ]\n",
      " [ 19.265718   10.2181635]\n",
      " [ 21.551077   10.81311  ]\n",
      " [ 16.983719    8.370553 ]\n",
      " [ 17.635752    8.1223755]\n",
      " [ 21.059534    9.613671 ]\n",
      " [ 20.238935   10.27713  ]\n",
      " [ 24.637745   10.66099  ]\n",
      " [ 24.691214   11.706472 ]\n",
      " [ 15.678288    8.803071 ]\n",
      " [ 22.439697   10.532718 ]\n",
      " [ 16.78382     8.41114  ]\n",
      " [ 24.518663   11.604287 ]\n",
      " [ 17.375973   10.307352 ]\n",
      " [ 22.093088   10.335003 ]\n",
      " [ 23.289156   11.409942 ]\n",
      " [ 16.830904   10.237038 ]\n",
      " [ 16.615337    9.940663 ]\n",
      " [ 20.73871    10.0620775]\n",
      " [ 23.01753    11.792273 ]\n",
      " [ 23.657225   11.66247  ]\n",
      " [ 24.619196   10.667341 ]\n",
      " [ 20.933964   10.0274105]\n",
      " [ 17.595558   10.587787 ]\n",
      " [ 18.755756    9.352605 ]\n",
      " [ 24.090883   11.194601 ]\n",
      " [ 21.733183    9.193268 ]\n",
      " [ 20.17198    10.116619 ]\n",
      " [ 16.269619    9.896449 ]\n",
      " [ 21.597023   10.992942 ]\n",
      " [ 21.909725   10.200818 ]\n",
      " [ 20.983028   11.316643 ]\n",
      " [ 17.156796    8.766839 ]\n",
      " [ 22.66457    10.297146 ]\n",
      " [ 22.389702    9.827909 ]\n",
      " [ 20.918964   10.964485 ]\n",
      " [ 17.824728   10.006723 ]\n",
      " [ 19.958572   10.755655 ]\n",
      " [ 21.256735    9.054863 ]\n",
      " [ 16.935785    9.286836 ]]\n"
     ]
    }
   ],
   "source": [
    "from sklearn.manifold import TSNE\n",
    "\n",
    "tsne = TSNE(n_components=2, random_state=42)\n",
    "X_tsne = tsne.fit_transform(X)\n",
    "print(X_tsne)"
   ]
  }
 ],
 "metadata": {
  "kernelspec": {
   "display_name": "Python 3 (ipykernel)",
   "language": "python",
   "name": "python3"
  },
  "language_info": {
   "codemirror_mode": {
    "name": "ipython",
    "version": 3
   },
   "file_extension": ".py",
   "mimetype": "text/x-python",
   "name": "python",
   "nbconvert_exporter": "python",
   "pygments_lexer": "ipython3",
   "version": "3.7.15"
  }
 },
 "nbformat": 4,
 "nbformat_minor": 2
}
